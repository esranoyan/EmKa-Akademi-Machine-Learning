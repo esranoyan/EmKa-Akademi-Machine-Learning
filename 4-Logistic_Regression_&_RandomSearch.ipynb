{
  "nbformat": 4,
  "nbformat_minor": 0,
  "metadata": {
    "colab": {
      "provenance": []
    },
    "kernelspec": {
      "name": "python3",
      "display_name": "Python 3"
    },
    "language_info": {
      "name": "python"
    }
  },
  "cells": [
    {
      "cell_type": "markdown",
      "source": [
        "# Import Libraries"
      ],
      "metadata": {
        "id": "xDH5HNJ0NLNJ"
      }
    },
    {
      "cell_type": "code",
      "execution_count": 3,
      "metadata": {
        "id": "hhle0hv01puq"
      },
      "outputs": [],
      "source": [
        "import numpy as np\n",
        "import pandas as pd\n",
        "\n",
        "from sklearn.datasets import make_classification\n",
        "from sklearn.model_selection import train_test_split\n",
        "from sklearn.linear_model import LogisticRegression\n",
        "from sklearn.metrics import classification_report"
      ]
    },
    {
      "cell_type": "markdown",
      "source": [
        "# Create the Data"
      ],
      "metadata": {
        "id": "bYh03zOkNPJA"
      }
    },
    {
      "cell_type": "code",
      "source": [
        "X , y = make_classification(n_samples= 2000, n_features= 50, n_informative=10,\n",
        "                    random_state=812, n_classes=2)"
      ],
      "metadata": {
        "id": "FVAiZusLD1u9"
      },
      "execution_count": 9,
      "outputs": []
    },
    {
      "cell_type": "code",
      "source": [
        "X"
      ],
      "metadata": {
        "colab": {
          "base_uri": "https://localhost:8080/"
        },
        "id": "8y75gCoiEY7l",
        "outputId": "81d36e22-4915-40a4-e5f9-b0b50a1fddff"
      },
      "execution_count": 10,
      "outputs": [
        {
          "output_type": "execute_result",
          "data": {
            "text/plain": [
              "array([[ 1.23173717,  1.10532801,  0.22776564, ..., -0.78356596,\n",
              "        -0.15711703, -1.65414508],\n",
              "       [ 0.48439638, -0.14303632, -2.51423517, ...,  0.60566089,\n",
              "        -0.13130922, -0.21336398],\n",
              "       [ 1.43086386, -0.13222191, -0.97300061, ..., -1.24373168,\n",
              "        -0.8441854 , -1.68326389],\n",
              "       ...,\n",
              "       [ 1.31133403,  0.03317187,  2.49820238, ..., -0.42860444,\n",
              "         1.11198425, -0.37050314],\n",
              "       [ 1.40062972, -0.98004073, -0.89407227, ...,  1.63212064,\n",
              "         0.06716772,  1.21445157],\n",
              "       [ 0.44062982, -0.17520526,  3.96299506, ...,  0.25240773,\n",
              "        -0.095253  ,  0.83673848]])"
            ]
          },
          "metadata": {},
          "execution_count": 10
        }
      ]
    },
    {
      "cell_type": "code",
      "source": [
        "y"
      ],
      "metadata": {
        "colab": {
          "base_uri": "https://localhost:8080/"
        },
        "id": "Ujgos5Z9Eguc",
        "outputId": "0db1fe48-bc8f-4cf0-e215-d5b7753f251c"
      },
      "execution_count": 11,
      "outputs": [
        {
          "output_type": "execute_result",
          "data": {
            "text/plain": [
              "array([0, 0, 0, ..., 0, 1, 0])"
            ]
          },
          "metadata": {},
          "execution_count": 11
        }
      ]
    },
    {
      "cell_type": "code",
      "source": [
        "X_train, X_test, y_train, y_test = train_test_split(X, y, random_state=42, train_size=0.8)"
      ],
      "metadata": {
        "id": "SGArvyDGEm4p"
      },
      "execution_count": 16,
      "outputs": []
    },
    {
      "cell_type": "code",
      "source": [
        "from collections import Counter\n",
        "Counter(y) # balanced data"
      ],
      "metadata": {
        "colab": {
          "base_uri": "https://localhost:8080/"
        },
        "id": "L9X79h9kE3zJ",
        "outputId": "32955f96-3fea-4738-b11e-4fe7b1467eb1"
      },
      "execution_count": 15,
      "outputs": [
        {
          "output_type": "execute_result",
          "data": {
            "text/plain": [
              "Counter({0: 1002, 1: 998})"
            ]
          },
          "metadata": {},
          "execution_count": 15
        }
      ]
    },
    {
      "cell_type": "code",
      "source": [
        "X_train.shape, X_test.shape"
      ],
      "metadata": {
        "colab": {
          "base_uri": "https://localhost:8080/"
        },
        "id": "M-uVFjjdE9Pw",
        "outputId": "6b846db7-70a1-4299-b9e4-d1a104d03677"
      },
      "execution_count": 17,
      "outputs": [
        {
          "output_type": "execute_result",
          "data": {
            "text/plain": [
              "((1600, 50), (400, 50))"
            ]
          },
          "metadata": {},
          "execution_count": 17
        }
      ]
    },
    {
      "cell_type": "markdown",
      "source": [
        "# Vanilla Model"
      ],
      "metadata": {
        "id": "bgas4u8HGgn1"
      }
    },
    {
      "cell_type": "code",
      "source": [
        "vanilla_lr = LogisticRegression()"
      ],
      "metadata": {
        "id": "mtmXiQciFQQj"
      },
      "execution_count": 20,
      "outputs": []
    },
    {
      "cell_type": "code",
      "source": [
        "vanilla_lr.fit(X_train, y_train)"
      ],
      "metadata": {
        "colab": {
          "base_uri": "https://localhost:8080/",
          "height": 75
        },
        "id": "vCn8JFftFOuR",
        "outputId": "686c2f16-f38b-4d27-f165-973cd81c9c16"
      },
      "execution_count": 22,
      "outputs": [
        {
          "output_type": "execute_result",
          "data": {
            "text/plain": [
              "LogisticRegression()"
            ],
            "text/html": [
              "<style>#sk-container-id-1 {color: black;background-color: white;}#sk-container-id-1 pre{padding: 0;}#sk-container-id-1 div.sk-toggleable {background-color: white;}#sk-container-id-1 label.sk-toggleable__label {cursor: pointer;display: block;width: 100%;margin-bottom: 0;padding: 0.3em;box-sizing: border-box;text-align: center;}#sk-container-id-1 label.sk-toggleable__label-arrow:before {content: \"▸\";float: left;margin-right: 0.25em;color: #696969;}#sk-container-id-1 label.sk-toggleable__label-arrow:hover:before {color: black;}#sk-container-id-1 div.sk-estimator:hover label.sk-toggleable__label-arrow:before {color: black;}#sk-container-id-1 div.sk-toggleable__content {max-height: 0;max-width: 0;overflow: hidden;text-align: left;background-color: #f0f8ff;}#sk-container-id-1 div.sk-toggleable__content pre {margin: 0.2em;color: black;border-radius: 0.25em;background-color: #f0f8ff;}#sk-container-id-1 input.sk-toggleable__control:checked~div.sk-toggleable__content {max-height: 200px;max-width: 100%;overflow: auto;}#sk-container-id-1 input.sk-toggleable__control:checked~label.sk-toggleable__label-arrow:before {content: \"▾\";}#sk-container-id-1 div.sk-estimator input.sk-toggleable__control:checked~label.sk-toggleable__label {background-color: #d4ebff;}#sk-container-id-1 div.sk-label input.sk-toggleable__control:checked~label.sk-toggleable__label {background-color: #d4ebff;}#sk-container-id-1 input.sk-hidden--visually {border: 0;clip: rect(1px 1px 1px 1px);clip: rect(1px, 1px, 1px, 1px);height: 1px;margin: -1px;overflow: hidden;padding: 0;position: absolute;width: 1px;}#sk-container-id-1 div.sk-estimator {font-family: monospace;background-color: #f0f8ff;border: 1px dotted black;border-radius: 0.25em;box-sizing: border-box;margin-bottom: 0.5em;}#sk-container-id-1 div.sk-estimator:hover {background-color: #d4ebff;}#sk-container-id-1 div.sk-parallel-item::after {content: \"\";width: 100%;border-bottom: 1px solid gray;flex-grow: 1;}#sk-container-id-1 div.sk-label:hover label.sk-toggleable__label {background-color: #d4ebff;}#sk-container-id-1 div.sk-serial::before {content: \"\";position: absolute;border-left: 1px solid gray;box-sizing: border-box;top: 0;bottom: 0;left: 50%;z-index: 0;}#sk-container-id-1 div.sk-serial {display: flex;flex-direction: column;align-items: center;background-color: white;padding-right: 0.2em;padding-left: 0.2em;position: relative;}#sk-container-id-1 div.sk-item {position: relative;z-index: 1;}#sk-container-id-1 div.sk-parallel {display: flex;align-items: stretch;justify-content: center;background-color: white;position: relative;}#sk-container-id-1 div.sk-item::before, #sk-container-id-1 div.sk-parallel-item::before {content: \"\";position: absolute;border-left: 1px solid gray;box-sizing: border-box;top: 0;bottom: 0;left: 50%;z-index: -1;}#sk-container-id-1 div.sk-parallel-item {display: flex;flex-direction: column;z-index: 1;position: relative;background-color: white;}#sk-container-id-1 div.sk-parallel-item:first-child::after {align-self: flex-end;width: 50%;}#sk-container-id-1 div.sk-parallel-item:last-child::after {align-self: flex-start;width: 50%;}#sk-container-id-1 div.sk-parallel-item:only-child::after {width: 0;}#sk-container-id-1 div.sk-dashed-wrapped {border: 1px dashed gray;margin: 0 0.4em 0.5em 0.4em;box-sizing: border-box;padding-bottom: 0.4em;background-color: white;}#sk-container-id-1 div.sk-label label {font-family: monospace;font-weight: bold;display: inline-block;line-height: 1.2em;}#sk-container-id-1 div.sk-label-container {text-align: center;}#sk-container-id-1 div.sk-container {/* jupyter's `normalize.less` sets `[hidden] { display: none; }` but bootstrap.min.css set `[hidden] { display: none !important; }` so we also need the `!important` here to be able to override the default hidden behavior on the sphinx rendered scikit-learn.org. See: https://github.com/scikit-learn/scikit-learn/issues/21755 */display: inline-block !important;position: relative;}#sk-container-id-1 div.sk-text-repr-fallback {display: none;}</style><div id=\"sk-container-id-1\" class=\"sk-top-container\"><div class=\"sk-text-repr-fallback\"><pre>LogisticRegression()</pre><b>In a Jupyter environment, please rerun this cell to show the HTML representation or trust the notebook. <br />On GitHub, the HTML representation is unable to render, please try loading this page with nbviewer.org.</b></div><div class=\"sk-container\" hidden><div class=\"sk-item\"><div class=\"sk-estimator sk-toggleable\"><input class=\"sk-toggleable__control sk-hidden--visually\" id=\"sk-estimator-id-1\" type=\"checkbox\" checked><label for=\"sk-estimator-id-1\" class=\"sk-toggleable__label sk-toggleable__label-arrow\">LogisticRegression</label><div class=\"sk-toggleable__content\"><pre>LogisticRegression()</pre></div></div></div></div></div>"
            ]
          },
          "metadata": {},
          "execution_count": 22
        }
      ]
    },
    {
      "cell_type": "code",
      "source": [
        "vanilla_preds = vanilla_lr.predict(X_test)\n",
        "vanilla_preds"
      ],
      "metadata": {
        "colab": {
          "base_uri": "https://localhost:8080/"
        },
        "id": "xx1HWAdcFb_6",
        "outputId": "05d039f3-0798-4a89-f2e9-b846fa4991be"
      },
      "execution_count": 24,
      "outputs": [
        {
          "output_type": "execute_result",
          "data": {
            "text/plain": [
              "array([1, 1, 1, 0, 1, 1, 0, 1, 1, 0, 1, 1, 1, 0, 1, 0, 0, 0, 1, 1, 0, 1,\n",
              "       0, 1, 0, 0, 0, 0, 1, 1, 0, 1, 0, 0, 1, 0, 1, 1, 0, 1, 0, 0, 1, 0,\n",
              "       1, 0, 0, 1, 1, 1, 1, 0, 0, 1, 0, 0, 0, 0, 1, 0, 1, 0, 0, 1, 0, 1,\n",
              "       0, 1, 0, 0, 0, 0, 0, 1, 0, 0, 0, 1, 0, 0, 0, 1, 1, 1, 0, 1, 0, 1,\n",
              "       0, 0, 0, 0, 0, 0, 0, 0, 0, 0, 0, 0, 1, 0, 1, 0, 0, 0, 1, 0, 1, 0,\n",
              "       0, 0, 0, 0, 1, 1, 0, 1, 0, 1, 0, 1, 1, 1, 1, 1, 1, 0, 0, 1, 0, 0,\n",
              "       1, 0, 0, 0, 0, 0, 0, 0, 0, 1, 0, 0, 1, 1, 1, 0, 0, 1, 1, 1, 0, 0,\n",
              "       0, 1, 0, 0, 0, 1, 0, 1, 0, 1, 0, 1, 1, 0, 1, 0, 0, 1, 1, 1, 1, 0,\n",
              "       1, 0, 1, 0, 1, 0, 0, 1, 1, 1, 1, 0, 1, 1, 0, 1, 1, 1, 1, 1, 0, 1,\n",
              "       0, 1, 0, 0, 1, 0, 1, 1, 1, 0, 1, 1, 0, 1, 0, 1, 0, 0, 0, 1, 0, 0,\n",
              "       0, 1, 0, 0, 1, 0, 0, 1, 0, 0, 1, 1, 1, 1, 0, 0, 0, 1, 0, 1, 0, 1,\n",
              "       0, 0, 1, 1, 0, 0, 1, 1, 0, 1, 1, 1, 1, 0, 1, 1, 0, 0, 0, 1, 0, 0,\n",
              "       0, 1, 0, 1, 1, 1, 0, 0, 1, 1, 1, 1, 0, 0, 0, 0, 0, 1, 0, 0, 1, 1,\n",
              "       1, 1, 1, 1, 0, 0, 1, 1, 1, 0, 0, 1, 0, 1, 0, 1, 0, 1, 0, 0, 0, 0,\n",
              "       0, 1, 0, 1, 1, 0, 1, 1, 1, 1, 0, 0, 0, 0, 1, 1, 1, 1, 0, 1, 1, 1,\n",
              "       1, 0, 1, 0, 1, 1, 0, 1, 1, 1, 0, 1, 1, 0, 1, 0, 1, 1, 0, 1, 0, 1,\n",
              "       0, 1, 1, 0, 0, 1, 1, 0, 0, 1, 1, 1, 0, 0, 0, 1, 0, 1, 0, 1, 0, 0,\n",
              "       1, 1, 1, 0, 1, 1, 0, 0, 0, 0, 1, 1, 0, 1, 1, 0, 0, 0, 0, 1, 1, 0,\n",
              "       1, 1, 1, 0])"
            ]
          },
          "metadata": {},
          "execution_count": 24
        }
      ]
    },
    {
      "cell_type": "code",
      "source": [
        "y_test"
      ],
      "metadata": {
        "colab": {
          "base_uri": "https://localhost:8080/"
        },
        "id": "Ub4fzxXVFrpS",
        "outputId": "c78133ea-f145-419b-dff3-900c63dcca3a"
      },
      "execution_count": 25,
      "outputs": [
        {
          "output_type": "execute_result",
          "data": {
            "text/plain": [
              "array([1, 1, 1, 0, 1, 1, 0, 1, 1, 0, 1, 1, 0, 1, 1, 0, 1, 1, 1, 0, 1, 0,\n",
              "       0, 1, 1, 1, 0, 1, 1, 1, 0, 1, 1, 0, 1, 0, 1, 0, 0, 0, 0, 0, 1, 0,\n",
              "       0, 1, 0, 1, 1, 1, 1, 1, 0, 0, 0, 1, 1, 1, 1, 0, 1, 1, 0, 1, 0, 0,\n",
              "       0, 1, 1, 0, 0, 1, 1, 1, 0, 0, 1, 1, 1, 0, 1, 1, 1, 0, 0, 1, 0, 1,\n",
              "       1, 0, 0, 0, 0, 0, 0, 1, 0, 0, 0, 0, 0, 1, 0, 0, 0, 0, 1, 0, 0, 1,\n",
              "       0, 0, 0, 0, 1, 1, 0, 1, 0, 1, 1, 1, 1, 1, 1, 0, 1, 0, 0, 0, 1, 1,\n",
              "       1, 1, 0, 0, 1, 0, 0, 0, 0, 1, 0, 0, 1, 0, 0, 1, 0, 0, 1, 0, 0, 0,\n",
              "       0, 1, 1, 0, 0, 0, 0, 1, 0, 1, 1, 1, 1, 1, 1, 1, 0, 1, 1, 0, 1, 1,\n",
              "       1, 0, 0, 0, 1, 0, 0, 1, 1, 0, 1, 0, 1, 1, 0, 1, 0, 1, 1, 1, 0, 1,\n",
              "       1, 1, 0, 0, 1, 0, 1, 1, 1, 1, 0, 1, 1, 1, 1, 1, 0, 1, 0, 1, 1, 1,\n",
              "       0, 1, 0, 0, 1, 0, 1, 1, 0, 0, 0, 1, 0, 0, 1, 0, 0, 0, 1, 1, 0, 1,\n",
              "       1, 0, 1, 0, 1, 1, 0, 1, 0, 1, 1, 1, 1, 0, 1, 1, 1, 0, 1, 1, 0, 0,\n",
              "       0, 0, 0, 1, 0, 1, 0, 0, 1, 1, 1, 0, 0, 0, 0, 0, 0, 1, 0, 1, 1, 1,\n",
              "       1, 1, 1, 1, 1, 0, 1, 1, 1, 1, 0, 1, 1, 1, 0, 0, 0, 1, 0, 1, 0, 0,\n",
              "       0, 1, 0, 1, 1, 1, 1, 0, 0, 1, 0, 0, 0, 0, 1, 1, 1, 1, 0, 1, 1, 0,\n",
              "       0, 0, 1, 0, 1, 1, 0, 1, 1, 1, 0, 1, 1, 0, 1, 0, 0, 0, 0, 1, 0, 1,\n",
              "       0, 1, 0, 1, 1, 1, 1, 1, 0, 1, 1, 1, 1, 0, 0, 0, 0, 1, 0, 1, 0, 0,\n",
              "       1, 1, 1, 0, 1, 0, 0, 1, 1, 0, 1, 1, 0, 0, 1, 0, 0, 0, 0, 1, 1, 1,\n",
              "       0, 1, 1, 0])"
            ]
          },
          "metadata": {},
          "execution_count": 25
        }
      ]
    },
    {
      "cell_type": "code",
      "source": [
        "print(classification_report(y_test, vanilla_preds, digits=3))"
      ],
      "metadata": {
        "colab": {
          "base_uri": "https://localhost:8080/"
        },
        "id": "eqMTnKcJFxNl",
        "outputId": "a37c4b1d-f4fe-447a-eac7-754ef16fd378"
      },
      "execution_count": 29,
      "outputs": [
        {
          "output_type": "stream",
          "name": "stdout",
          "text": [
            "              precision    recall  f1-score   support\n",
            "\n",
            "           0      0.693     0.759     0.724       187\n",
            "           1      0.769     0.704     0.735       213\n",
            "\n",
            "    accuracy                          0.730       400\n",
            "   macro avg      0.731     0.732     0.730       400\n",
            "weighted avg      0.733     0.730     0.730       400\n",
            "\n"
          ]
        }
      ]
    },
    {
      "cell_type": "markdown",
      "source": [
        "# Hyperparameter Tuning"
      ],
      "metadata": {
        "id": "_YloPYHBGlTz"
      }
    },
    {
      "cell_type": "code",
      "source": [
        "from sklearn.model_selection import RandomizedSearchCV"
      ],
      "metadata": {
        "id": "O-d7-RZAGrMN"
      },
      "execution_count": 30,
      "outputs": []
    },
    {
      "cell_type": "code",
      "source": [
        "param_dist = {\n",
        "    'C': [0.01, 0.1, 1, 10, 100], # Big value C is reliable\n",
        "    'penalty': [\"l1\", \"l2\"],\n",
        "    'solver': [\"saga\", \"liblinear\"]\n",
        "}"
      ],
      "metadata": {
        "id": "X5-xYIzdHM9b"
      },
      "execution_count": 35,
      "outputs": []
    },
    {
      "cell_type": "code",
      "source": [
        "tune_model = LogisticRegression()"
      ],
      "metadata": {
        "id": "0yAT9m7LKHT7"
      },
      "execution_count": 36,
      "outputs": []
    },
    {
      "cell_type": "code",
      "source": [
        "random_search = RandomizedSearchCV(\n",
        "    tune_model, param_dist, cv = 5,\n",
        "    n_iter=5, verbose = 1 )"
      ],
      "metadata": {
        "id": "qLv2-lRWKUCU"
      },
      "execution_count": 37,
      "outputs": []
    },
    {
      "cell_type": "code",
      "source": [
        "random_search.fit(X_train, y_train)"
      ],
      "metadata": {
        "colab": {
          "base_uri": "https://localhost:8080/",
          "height": 135
        },
        "id": "hnDSaCV4LH-6",
        "outputId": "0fb22e93-dfb9-4541-e682-73bd1dd7bf2f"
      },
      "execution_count": 38,
      "outputs": [
        {
          "output_type": "stream",
          "name": "stdout",
          "text": [
            "Fitting 5 folds for each of 5 candidates, totalling 25 fits\n"
          ]
        },
        {
          "output_type": "execute_result",
          "data": {
            "text/plain": [
              "RandomizedSearchCV(cv=5, estimator=LogisticRegression(), n_iter=5,\n",
              "                   param_distributions={'C': [0.01, 0.1, 1, 10, 100],\n",
              "                                        'penalty': ['l1', 'l2'],\n",
              "                                        'solver': ['saga', 'liblinear']},\n",
              "                   verbose=1)"
            ],
            "text/html": [
              "<style>#sk-container-id-2 {color: black;background-color: white;}#sk-container-id-2 pre{padding: 0;}#sk-container-id-2 div.sk-toggleable {background-color: white;}#sk-container-id-2 label.sk-toggleable__label {cursor: pointer;display: block;width: 100%;margin-bottom: 0;padding: 0.3em;box-sizing: border-box;text-align: center;}#sk-container-id-2 label.sk-toggleable__label-arrow:before {content: \"▸\";float: left;margin-right: 0.25em;color: #696969;}#sk-container-id-2 label.sk-toggleable__label-arrow:hover:before {color: black;}#sk-container-id-2 div.sk-estimator:hover label.sk-toggleable__label-arrow:before {color: black;}#sk-container-id-2 div.sk-toggleable__content {max-height: 0;max-width: 0;overflow: hidden;text-align: left;background-color: #f0f8ff;}#sk-container-id-2 div.sk-toggleable__content pre {margin: 0.2em;color: black;border-radius: 0.25em;background-color: #f0f8ff;}#sk-container-id-2 input.sk-toggleable__control:checked~div.sk-toggleable__content {max-height: 200px;max-width: 100%;overflow: auto;}#sk-container-id-2 input.sk-toggleable__control:checked~label.sk-toggleable__label-arrow:before {content: \"▾\";}#sk-container-id-2 div.sk-estimator input.sk-toggleable__control:checked~label.sk-toggleable__label {background-color: #d4ebff;}#sk-container-id-2 div.sk-label input.sk-toggleable__control:checked~label.sk-toggleable__label {background-color: #d4ebff;}#sk-container-id-2 input.sk-hidden--visually {border: 0;clip: rect(1px 1px 1px 1px);clip: rect(1px, 1px, 1px, 1px);height: 1px;margin: -1px;overflow: hidden;padding: 0;position: absolute;width: 1px;}#sk-container-id-2 div.sk-estimator {font-family: monospace;background-color: #f0f8ff;border: 1px dotted black;border-radius: 0.25em;box-sizing: border-box;margin-bottom: 0.5em;}#sk-container-id-2 div.sk-estimator:hover {background-color: #d4ebff;}#sk-container-id-2 div.sk-parallel-item::after {content: \"\";width: 100%;border-bottom: 1px solid gray;flex-grow: 1;}#sk-container-id-2 div.sk-label:hover label.sk-toggleable__label {background-color: #d4ebff;}#sk-container-id-2 div.sk-serial::before {content: \"\";position: absolute;border-left: 1px solid gray;box-sizing: border-box;top: 0;bottom: 0;left: 50%;z-index: 0;}#sk-container-id-2 div.sk-serial {display: flex;flex-direction: column;align-items: center;background-color: white;padding-right: 0.2em;padding-left: 0.2em;position: relative;}#sk-container-id-2 div.sk-item {position: relative;z-index: 1;}#sk-container-id-2 div.sk-parallel {display: flex;align-items: stretch;justify-content: center;background-color: white;position: relative;}#sk-container-id-2 div.sk-item::before, #sk-container-id-2 div.sk-parallel-item::before {content: \"\";position: absolute;border-left: 1px solid gray;box-sizing: border-box;top: 0;bottom: 0;left: 50%;z-index: -1;}#sk-container-id-2 div.sk-parallel-item {display: flex;flex-direction: column;z-index: 1;position: relative;background-color: white;}#sk-container-id-2 div.sk-parallel-item:first-child::after {align-self: flex-end;width: 50%;}#sk-container-id-2 div.sk-parallel-item:last-child::after {align-self: flex-start;width: 50%;}#sk-container-id-2 div.sk-parallel-item:only-child::after {width: 0;}#sk-container-id-2 div.sk-dashed-wrapped {border: 1px dashed gray;margin: 0 0.4em 0.5em 0.4em;box-sizing: border-box;padding-bottom: 0.4em;background-color: white;}#sk-container-id-2 div.sk-label label {font-family: monospace;font-weight: bold;display: inline-block;line-height: 1.2em;}#sk-container-id-2 div.sk-label-container {text-align: center;}#sk-container-id-2 div.sk-container {/* jupyter's `normalize.less` sets `[hidden] { display: none; }` but bootstrap.min.css set `[hidden] { display: none !important; }` so we also need the `!important` here to be able to override the default hidden behavior on the sphinx rendered scikit-learn.org. See: https://github.com/scikit-learn/scikit-learn/issues/21755 */display: inline-block !important;position: relative;}#sk-container-id-2 div.sk-text-repr-fallback {display: none;}</style><div id=\"sk-container-id-2\" class=\"sk-top-container\"><div class=\"sk-text-repr-fallback\"><pre>RandomizedSearchCV(cv=5, estimator=LogisticRegression(), n_iter=5,\n",
              "                   param_distributions={&#x27;C&#x27;: [0.01, 0.1, 1, 10, 100],\n",
              "                                        &#x27;penalty&#x27;: [&#x27;l1&#x27;, &#x27;l2&#x27;],\n",
              "                                        &#x27;solver&#x27;: [&#x27;saga&#x27;, &#x27;liblinear&#x27;]},\n",
              "                   verbose=1)</pre><b>In a Jupyter environment, please rerun this cell to show the HTML representation or trust the notebook. <br />On GitHub, the HTML representation is unable to render, please try loading this page with nbviewer.org.</b></div><div class=\"sk-container\" hidden><div class=\"sk-item sk-dashed-wrapped\"><div class=\"sk-label-container\"><div class=\"sk-label sk-toggleable\"><input class=\"sk-toggleable__control sk-hidden--visually\" id=\"sk-estimator-id-2\" type=\"checkbox\" ><label for=\"sk-estimator-id-2\" class=\"sk-toggleable__label sk-toggleable__label-arrow\">RandomizedSearchCV</label><div class=\"sk-toggleable__content\"><pre>RandomizedSearchCV(cv=5, estimator=LogisticRegression(), n_iter=5,\n",
              "                   param_distributions={&#x27;C&#x27;: [0.01, 0.1, 1, 10, 100],\n",
              "                                        &#x27;penalty&#x27;: [&#x27;l1&#x27;, &#x27;l2&#x27;],\n",
              "                                        &#x27;solver&#x27;: [&#x27;saga&#x27;, &#x27;liblinear&#x27;]},\n",
              "                   verbose=1)</pre></div></div></div><div class=\"sk-parallel\"><div class=\"sk-parallel-item\"><div class=\"sk-item\"><div class=\"sk-label-container\"><div class=\"sk-label sk-toggleable\"><input class=\"sk-toggleable__control sk-hidden--visually\" id=\"sk-estimator-id-3\" type=\"checkbox\" ><label for=\"sk-estimator-id-3\" class=\"sk-toggleable__label sk-toggleable__label-arrow\">estimator: LogisticRegression</label><div class=\"sk-toggleable__content\"><pre>LogisticRegression()</pre></div></div></div><div class=\"sk-serial\"><div class=\"sk-item\"><div class=\"sk-estimator sk-toggleable\"><input class=\"sk-toggleable__control sk-hidden--visually\" id=\"sk-estimator-id-4\" type=\"checkbox\" ><label for=\"sk-estimator-id-4\" class=\"sk-toggleable__label sk-toggleable__label-arrow\">LogisticRegression</label><div class=\"sk-toggleable__content\"><pre>LogisticRegression()</pre></div></div></div></div></div></div></div></div></div></div>"
            ]
          },
          "metadata": {},
          "execution_count": 38
        }
      ]
    },
    {
      "cell_type": "code",
      "source": [
        "random_search.best_params_"
      ],
      "metadata": {
        "colab": {
          "base_uri": "https://localhost:8080/"
        },
        "id": "p1Yf-QOHLWd8",
        "outputId": "a941f933-4067-4635-ca0e-5930c6d9313a"
      },
      "execution_count": 39,
      "outputs": [
        {
          "output_type": "execute_result",
          "data": {
            "text/plain": [
              "{'solver': 'liblinear', 'penalty': 'l2', 'C': 100}"
            ]
          },
          "metadata": {},
          "execution_count": 39
        }
      ]
    },
    {
      "cell_type": "code",
      "source": [
        "best_model = random_search.best_estimator_"
      ],
      "metadata": {
        "id": "eE3kWIWkLhha"
      },
      "execution_count": 40,
      "outputs": []
    },
    {
      "cell_type": "code",
      "source": [
        "tuned_preds = best_model.predict(X_test)"
      ],
      "metadata": {
        "id": "eGveOMUrLaRZ"
      },
      "execution_count": 41,
      "outputs": []
    },
    {
      "cell_type": "code",
      "source": [
        "print(classification_report(y_test, tuned_preds, digits=3))"
      ],
      "metadata": {
        "colab": {
          "base_uri": "https://localhost:8080/"
        },
        "id": "fRC6u7ZMLsx4",
        "outputId": "3d268e1a-f88f-4187-cf41-35bc4bca657f"
      },
      "execution_count": 42,
      "outputs": [
        {
          "output_type": "stream",
          "name": "stdout",
          "text": [
            "              precision    recall  f1-score   support\n",
            "\n",
            "           0      0.693     0.759     0.724       187\n",
            "           1      0.769     0.704     0.735       213\n",
            "\n",
            "    accuracy                          0.730       400\n",
            "   macro avg      0.731     0.732     0.730       400\n",
            "weighted avg      0.733     0.730     0.730       400\n",
            "\n"
          ]
        }
      ]
    },
    {
      "cell_type": "code",
      "source": [
        "tuned_probas = best_model.predict_proba(X_test)[:, 1]\n",
        "tuned_probas"
      ],
      "metadata": {
        "colab": {
          "base_uri": "https://localhost:8080/"
        },
        "id": "XeF54hHFMIbw",
        "outputId": "f298ef9e-72e6-4992-a788-c0e594b10dff"
      },
      "execution_count": 43,
      "outputs": [
        {
          "output_type": "execute_result",
          "data": {
            "text/plain": [
              "array([0.94255873, 0.66127795, 0.82563494, 0.41068122, 0.76319623,\n",
              "       0.74989137, 0.37945329, 0.94042885, 0.93333442, 0.28211207,\n",
              "       0.90343307, 0.69502836, 0.63062203, 0.23427391, 0.9153906 ,\n",
              "       0.49091428, 0.3226734 , 0.42868028, 0.96008728, 0.63810533,\n",
              "       0.26530854, 0.61899121, 0.04212219, 0.74420292, 0.07551113,\n",
              "       0.31692028, 0.04854838, 0.17764407, 0.96386504, 0.79771149,\n",
              "       0.20356129, 0.69413429, 0.22225273, 0.43441157, 0.74109191,\n",
              "       0.07736576, 0.98476758, 0.63244771, 0.32174149, 0.86767143,\n",
              "       0.23561282, 0.22659143, 0.69953521, 0.33766431, 0.58265229,\n",
              "       0.19306524, 0.32919346, 0.99372076, 0.99467507, 0.86575909,\n",
              "       0.50950683, 0.34896322, 0.21298919, 0.53117472, 0.21017572,\n",
              "       0.23935218, 0.03864078, 0.21868479, 0.70081659, 0.15532477,\n",
              "       0.79478429, 0.09306382, 0.40189534, 0.72548037, 0.42412732,\n",
              "       0.59782899, 0.34283201, 0.69196268, 0.34459172, 0.07701354,\n",
              "       0.04582586, 0.45446369, 0.29804311, 0.54306574, 0.09236777,\n",
              "       0.08838997, 0.262569  , 0.91109726, 0.2368417 , 0.05409279,\n",
              "       0.24662785, 0.99189858, 0.77320426, 0.8388928 , 0.0822259 ,\n",
              "       0.89015922, 0.33918746, 0.94162042, 0.25734623, 0.01481657,\n",
              "       0.47089101, 0.48663686, 0.45533814, 0.25648694, 0.34951648,\n",
              "       0.25357691, 0.48368759, 0.02515116, 0.28865772, 0.19207851,\n",
              "       0.50305225, 0.41733754, 0.57828412, 0.0994678 , 0.01515602,\n",
              "       0.312204  , 0.98506166, 0.05750595, 0.58935212, 0.10240534,\n",
              "       0.23810125, 0.46080827, 0.19458241, 0.07565973, 0.70639276,\n",
              "       0.97305656, 0.09599417, 0.86248405, 0.06864149, 0.94205322,\n",
              "       0.42670283, 0.87259112, 0.80861364, 0.81794202, 0.67578515,\n",
              "       0.8091422 , 0.50828873, 0.02453477, 0.19891068, 0.52010974,\n",
              "       0.21355568, 0.36835312, 0.89211288, 0.30189594, 0.31646539,\n",
              "       0.08500919, 0.06842111, 0.09462135, 0.00312376, 0.21798601,\n",
              "       0.32299759, 0.5814046 , 0.22033435, 0.44765586, 0.59489523,\n",
              "       0.54247765, 0.57899581, 0.2326761 , 0.06341587, 0.6949141 ,\n",
              "       0.86200977, 0.78193722, 0.14469381, 0.27213403, 0.02537865,\n",
              "       0.85400997, 0.27381858, 0.09983033, 0.23807458, 0.64511405,\n",
              "       0.17227954, 0.52563445, 0.27660107, 0.69286086, 0.36472819,\n",
              "       0.85408692, 0.5773877 , 0.49752297, 0.97878694, 0.483248  ,\n",
              "       0.08481076, 0.5346219 , 0.75521319, 0.53992646, 0.54010085,\n",
              "       0.42366046, 0.99701178, 0.27555724, 0.89664251, 0.03451186,\n",
              "       0.84131229, 0.33254373, 0.45985519, 0.90383131, 0.54551016,\n",
              "       0.64777438, 0.93832036, 0.03707202, 0.91773918, 0.55070038,\n",
              "       0.06663998, 0.86769674, 0.76816588, 0.58765097, 0.84880809,\n",
              "       0.67167735, 0.08120082, 0.99307206, 0.07027706, 0.98384924,\n",
              "       0.12628594, 0.16041402, 0.54953017, 0.38653204, 0.80881568,\n",
              "       0.90674845, 0.94087246, 0.33744548, 0.58508171, 0.76993421,\n",
              "       0.3789409 , 0.98465398, 0.15692621, 0.74365718, 0.05601471,\n",
              "       0.20779505, 0.27850466, 0.88046123, 0.30812785, 0.37413037,\n",
              "       0.171012  , 0.96082041, 0.15150397, 0.0533457 , 0.68460998,\n",
              "       0.04324323, 0.16862871, 0.69206698, 0.16430548, 0.08145564,\n",
              "       0.51285654, 0.51267654, 0.5771764 , 0.62314234, 0.16234981,\n",
              "       0.02590798, 0.38058733, 0.77101881, 0.29632596, 0.647517  ,\n",
              "       0.03580855, 0.95904243, 0.12671471, 0.09031947, 0.97402562,\n",
              "       0.95710703, 0.38808312, 0.40045331, 0.51337817, 0.89029647,\n",
              "       0.25314356, 0.71578851, 0.96328298, 0.59011213, 0.80811083,\n",
              "       0.15650214, 0.75052461, 0.50287521, 0.28744312, 0.46480339,\n",
              "       0.20418049, 0.8658653 , 0.19396261, 0.08484363, 0.30360389,\n",
              "       0.85585812, 0.20489876, 0.58021659, 0.52388473, 0.83070957,\n",
              "       0.04191174, 0.43417656, 0.83632275, 0.70354488, 0.95475196,\n",
              "       0.79953076, 0.49998151, 0.46321755, 0.07004948, 0.2932989 ,\n",
              "       0.37574671, 0.53277982, 0.0739776 , 0.32496274, 0.87051802,\n",
              "       0.72315565, 0.94808281, 0.62080498, 0.50924795, 0.94939636,\n",
              "       0.4104246 , 0.1517754 , 0.79358998, 0.93203402, 0.79391558,\n",
              "       0.49459363, 0.22372424, 0.76701496, 0.45189392, 0.85997947,\n",
              "       0.38664831, 0.70269107, 0.04543119, 0.82560528, 0.18672956,\n",
              "       0.43476088, 0.23535553, 0.13496784, 0.13076653, 0.90908072,\n",
              "       0.20168082, 0.60245229, 0.71322328, 0.097011  , 0.65253151,\n",
              "       0.81032382, 0.84595495, 0.57911998, 0.15678778, 0.10286429,\n",
              "       0.26773387, 0.03494402, 0.6516831 , 0.51242591, 0.86640234,\n",
              "       0.92339925, 0.04346084, 0.85041849, 0.65563948, 0.61470415,\n",
              "       0.51877658, 0.15598462, 0.94408799, 0.02686204, 0.88289169,\n",
              "       0.73524409, 0.18833725, 0.60856031, 0.93088579, 0.93468666,\n",
              "       0.13043165, 0.65850413, 0.95425763, 0.21047312, 0.84890745,\n",
              "       0.22706033, 0.91935644, 0.78502187, 0.15696811, 0.68181169,\n",
              "       0.20541285, 0.79051644, 0.00162035, 0.96206766, 0.50920225,\n",
              "       0.46659712, 0.45856339, 0.94372509, 0.90173496, 0.220301  ,\n",
              "       0.16923403, 0.90407923, 0.71942832, 0.99105156, 0.06843306,\n",
              "       0.42565465, 0.27182783, 0.81653424, 0.01230871, 0.9308395 ,\n",
              "       0.40156038, 0.93007143, 0.29149913, 0.01755882, 0.96041612,\n",
              "       0.92283418, 0.9935587 , 0.44242566, 0.5692049 , 0.68073074,\n",
              "       0.48668417, 0.4915304 , 0.49108545, 0.04138925, 0.5295806 ,\n",
              "       0.64840174, 0.22966764, 0.8513889 , 0.81858303, 0.01337498,\n",
              "       0.2064589 , 0.07185615, 0.03340045, 0.89749559, 0.61611996,\n",
              "       0.06741962, 0.76632809, 0.90830637, 0.92465709, 0.03740954])"
            ]
          },
          "metadata": {},
          "execution_count": 43
        }
      ]
    }
  ]
}